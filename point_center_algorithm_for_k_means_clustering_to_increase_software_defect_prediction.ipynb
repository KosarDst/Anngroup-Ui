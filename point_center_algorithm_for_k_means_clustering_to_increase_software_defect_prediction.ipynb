{
  "nbformat": 4,
  "nbformat_minor": 0,
  "metadata": {
    "colab": {
      "provenance": [],
      "mount_file_id": "1TI0PXblOJgAUqYmx1evTWnAjj_t_mwPk",
      "authorship_tag": "ABX9TyNA9o7nXvgkvmVWqmocpSTT",
      "include_colab_link": true
    },
    "kernelspec": {
      "name": "python3",
      "display_name": "Python 3"
    },
    "language_info": {
      "name": "python"
    }
  },
  "cells": [
    {
      "cell_type": "markdown",
      "metadata": {
        "id": "view-in-github",
        "colab_type": "text"
      },
      "source": [
        "<a href=\"https://colab.research.google.com/github/KosarDst/Anngroup-Ui/blob/main/point_center_algorithm_for_k_means_clustering_to_increase_software_defect_prediction.ipynb\" target=\"_parent\"><img src=\"https://colab.research.google.com/assets/colab-badge.svg\" alt=\"Open In Colab\"/></a>"
      ]
    },
    {
      "cell_type": "markdown",
      "source": [
        "Step 1: Get Data\n"
      ],
      "metadata": {
        "id": "N5w4RK2bstCc"
      }
    },
    {
      "cell_type": "code",
      "source": [
        "import pandas as pd\n",
        "\n",
        "df1 = pd.read_csv('/content/drive/MyDrive/Dataset_SDP/CM1.csv')\n",
        "df2 = pd.read_csv('/content/drive/MyDrive/Dataset_SDP/KC1.csv')\n",
        "df3 = pd.read_csv('/content/drive/MyDrive/Dataset_SDP/KC3.csv')\n",
        "df4 = pd.read_csv('/content/drive/MyDrive/Dataset_SDP/MC2.csv')\n",
        "df5 = pd.read_csv('/content/drive/MyDrive/Dataset_SDP/MW1.csv')\n",
        "df6 = pd.read_csv('/content/drive/MyDrive/Dataset_SDP/PC1.csv')\n",
        "df7 = pd.read_csv('/content/drive/MyDrive/Dataset_SDP/PC2.csv')\n",
        "df8 = pd.read_csv('/content/drive/MyDrive/Dataset_SDP/PC3.csv')\n",
        "df9 = pd.read_csv('/content/drive/MyDrive/Dataset_SDP/PC4.csv')\n",
        "\n",
        "# df = df.drop(df.index[0])\n",
        "# df = df.replace(to_replace=r'^\\D*$', value=0, regex=True)\n",
        "# df = df.apply(pd.to_numeric)"
      ],
      "metadata": {
        "id": "pzPM1dcHmIlU"
      },
      "execution_count": null,
      "outputs": []
    },
    {
      "cell_type": "markdown",
      "source": [
        "Step 2: Implement Simple K-means"
      ],
      "metadata": {
        "id": "aWcJejpHcQsq"
      }
    },
    {
      "cell_type": "code",
      "source": [
        "import pandas as pd\n",
        "from sklearn.cluster import KMeans\n",
        "from sklearn.metrics import confusion_matrix\n",
        "from prettytable import PrettyTable\n",
        "import warnings\n",
        "warnings.filterwarnings('ignore')\n",
        "def kmeans(df):\n",
        "    # Remove the 'id' and 'Defective' columns from the DataFrame\n",
        "    X = df.drop(['Defective'], axis=1)\n",
        "\n",
        "    # Fit the K-Means model with k=2\n",
        "    kmeans = KMeans(n_clusters=2).fit(X)\n",
        "\n",
        "    # Predict the cluster labels\n",
        "    labels = kmeans.predict(X)\n",
        "\n",
        "    # Convert 'N' and 'Y' labels to integers\n",
        "    label_map = {'N': 0, 'Y': 1}\n",
        "    y_true = df['Defective'].map(label_map)\n",
        "\n",
        "    # Create a confusion matrix\n",
        "    cm = confusion_matrix(y_true, labels)\n",
        "\n",
        "    # # Extract the True Negative, False Positive, False Negative, and True Positive values\n",
        "    tn, fn, fp, tp = cm.ravel()\n",
        "    return tn, fn, fp, tp\n",
        "\n",
        "print(\"-------------------------- Simple K-Means Table --------------------------\")\n",
        "# return value and make Table\n",
        "Table=PrettyTable([\"Data\",\"True Negative\", \"False Positive\", \"False Negative\", \"True Positive\"])\n",
        "tn, fn, fp, tp=kmeans(df1)\n",
        "Table.add_row([\"CM1\",tn, fn, fp, tp])\n",
        "tn, fn, fp, tp=kmeans(df2)\n",
        "Table.add_row([\"KC1\",tn, fn, fp, tp])\n",
        "tn, fn, fp, tp=kmeans(df3)\n",
        "Table.add_row([\"KC3\",tn, fn, fp, tp])\n",
        "tn, fn, fp, tp=kmeans(df4)\n",
        "Table.add_row([\"MC2\",tn, fn, fp, tp])\n",
        "tn, fn, fp, tp=kmeans(df5)\n",
        "Table.add_row([\"MW1\",tn, fn, fp, tp])\n",
        "tn, fn, fp, tp=kmeans(df6)\n",
        "Table.add_row([\"PC1\",tn, fn, fp, tp])\n",
        "tn, fn, fp, tp=kmeans(df7)\n",
        "Table.add_row([\"PC2\",tn, fn, fp, tp])\n",
        "tn, fn, fp, tp=kmeans(df8)\n",
        "Table.add_row([\"PC3\",tn, fn, fp, tp])\n",
        "tn, fn, fp, tp=kmeans(df9)\n",
        "Table.add_row([\"PC4\",tn, fn, fp, tp])\n",
        "print(Table)"
      ],
      "metadata": {
        "colab": {
          "base_uri": "https://localhost:8080/"
        },
        "id": "SLztpBSI0m_l",
        "outputId": "2ca3282b-418d-444e-9797-5992125e3074"
      },
      "execution_count": null,
      "outputs": [
        {
          "output_type": "stream",
          "name": "stdout",
          "text": [
            "-------------------------- Simple K-Means Table --------------------------\n",
            "+------+---------------+----------------+----------------+---------------+\n",
            "| Data | True Negative | False Positive | False Negative | True Positive |\n",
            "+------+---------------+----------------+----------------+---------------+\n",
            "| CM1  |      300      |       2        |       42       |       0       |\n",
            "| KC1  |      1739     |       31       |      283       |       42      |\n",
            "| KC3  |      158      |       6        |       31       |       5       |\n",
            "| MC2  |       80      |       1        |       38       |       6       |\n",
            "| MW1  |      230      |       6        |       25       |       2       |\n",
            "| PC1  |      673      |       1        |       60       |       1       |\n",
            "| PC2  |      1465     |       12       |       15       |       1       |\n",
            "| PC3  |      960      |       1        |      138       |       0       |\n",
            "| PC4  |      1188     |       13       |      171       |       7       |\n",
            "+------+---------------+----------------+----------------+---------------+\n"
          ]
        }
      ]
    },
    {
      "cell_type": "markdown",
      "source": [
        "Step 3.5: Implement Point center algorithm"
      ],
      "metadata": {
        "id": "C3yRLLjBcojL"
      }
    },
    {
      "cell_type": "code",
      "source": [
        "import pandas as pd\n",
        "import numpy as np\n",
        "from sklearn.cluster import KMeans\n",
        "\n",
        "def point_center(df):\n",
        "    # Drop any rows with missing values\n",
        "    df.dropna(inplace=True)\n",
        "\n",
        "    # Extract the values of the features\n",
        "    X = df.iloc[:, 1:-1].values\n",
        "\n",
        "    # Calculate the point center\n",
        "    point_center = np.mean(X, axis=0)\n",
        "\n",
        "    # Calculate the distances from each point to the point center\n",
        "    distances = np.sqrt(np.sum(np.square(X - point_center), axis=1))\n",
        "\n",
        "    # Sort the distances in descending order and find the elbow point\n",
        "    sorted_distances = np.sort(distances)[::-1]\n",
        "    deltas = sorted_distances[:-1] - sorted_distances[1:]\n",
        "    elbow_index = np.argmax(deltas) + 1\n",
        "\n",
        "    # Determine the value of K\n",
        "    k = elbow_index + 1\n",
        "\n",
        "    # Initialize the centroids using the KMeans++ algorithm\n",
        "    kmeans = KMeans(n_clusters=k, init='k-means++')\n",
        "    kmeans.fit(X)\n",
        "    centroids = kmeans.cluster_centers_\n",
        "    return k,centroids\n",
        "\n",
        "\n",
        "Table=PrettyTable([\"Data\", \"K value\"])\n",
        "k,centroids=point_center(df1)\n",
        "Table.add_row([\"CM1\",k])\n",
        "k,centroids=point_center(df2)\n",
        "Table.add_row([\"KC1\",k])\n",
        "k,centroids=point_center(df3)\n",
        "Table.add_row([\"KC3\",k])\n",
        "k,centroids=point_center(df4)\n",
        "Table.add_row([\"MC2\",k])\n",
        "k,centroids=point_center(df5)\n",
        "Table.add_row([\"MW1\",k])\n",
        "k,centroids=point_center(df6)\n",
        "Table.add_row([\"PC1\",k])\n",
        "k,centroids=point_center(df7)\n",
        "Table.add_row([\"PC2\",k])\n",
        "k,centroids=point_center(df8)\n",
        "Table.add_row([\"PC3\",k])\n",
        "k,centroids=point_center(df9)\n",
        "Table.add_row([\"PC4\",k])\n",
        "print(Table)"
      ],
      "metadata": {
        "colab": {
          "base_uri": "https://localhost:8080/"
        },
        "id": "NvuGVlpRrQRW",
        "outputId": "c1f9f0b4-4241-4605-bacc-7b083c854c1b"
      },
      "execution_count": null,
      "outputs": [
        {
          "output_type": "stream",
          "name": "stdout",
          "text": [
            "+------+---------+\n",
            "| Data | K value |\n",
            "+------+---------+\n",
            "| CM1  |    3    |\n",
            "| KC1  |    2    |\n",
            "| KC3  |    2    |\n",
            "| MC2  |    4    |\n",
            "| MW1  |    2    |\n",
            "| PC1  |    2    |\n",
            "| PC2  |    2    |\n",
            "| PC3  |    2    |\n",
            "| PC4  |    2    |\n",
            "+------+---------+\n"
          ]
        }
      ]
    },
    {
      "cell_type": "markdown",
      "source": [
        "Step 3: Implement Proposed K-means"
      ],
      "metadata": {
        "id": "j__HtO3zcZrG"
      }
    },
    {
      "cell_type": "code",
      "source": [
        "import pandas as pd\n",
        "\n",
        "def proposed_kmean(df):\n",
        "    # Identify string columns\n",
        "    string_cols = df.select_dtypes(include='object').columns\n",
        "\n",
        "    # Replace string values with numeric\n",
        "    df[string_cols] = df[string_cols].replace(['N', 'Y'], [0,1])\n",
        "\n",
        "    # Replace missing values with mean\n",
        "    df = df.fillna(df.mean())\n",
        "\n",
        "    # Calculate point center\n",
        "    means = df.mean()\n",
        "\n",
        "    k = len(df['Defective'].unique())\n",
        "    centroids = [means] * k\n",
        "\n",
        "    # Perform k-means clustering\n",
        "    from sklearn.cluster import KMeans\n",
        "    kmeans = KMeans(n_clusters=k, init=centroids, n_init=1)\n",
        "    clusters = kmeans.fit_predict(df)\n",
        "\n",
        "    # Calculate error and Rand index\n",
        "    confusion_matrix = pd.crosstab(df['Defective'], clusters)\n",
        "\n",
        "    error = (confusion_matrix.iloc[0,1] + confusion_matrix.iloc[1,0]) / confusion_matrix.sum().sum()\n",
        "    rand_index = (confusion_matrix.iloc[0,0] + confusion_matrix.iloc[1,1]) / confusion_matrix.sum().sum()\n",
        "\n",
        "    return confusion_matrix[0][0],confusion_matrix[0][1],confusion_matrix[1][0],confusion_matrix[1][1],error,rand_index\n",
        "\n",
        "print(\"----------------------------------------------- Proposed K-Means Table -----------------------------------------------\")\n",
        "Table=PrettyTable([\"Data\",\"True Negative\", \"False Positive\", \"False Negative\", \"True Positive\",\"Error\",\"Rand index\"])\n",
        "tn,fp,fn,tp,error,rand_index = proposed_kmean(df1)\n",
        "Table.add_row([\"CM1\",tn, fn, fp, tp, error, rand_index])\n",
        "tn,fp,fn,tp,error,rand_index = proposed_kmean(df2)\n",
        "Table.add_row([\"KC1\",tn, fn, fp, tp,error,rand_index])\n",
        "tn,fp,fn,tp,error,rand_index = proposed_kmean(df3)\n",
        "Table.add_row([\"KC3\",tn, fn, fp, tp,error,rand_index])\n",
        "tn,fp,fn,tp,error,rand_index = proposed_kmean(df4)\n",
        "Table.add_row([\"MC2\",tn, fn, fp, tp,error,rand_index])\n",
        "tn,fp,fn,tp,error,rand_index = proposed_kmean(df5)\n",
        "Table.add_row([\"MW1\",tn, fn, fp, tp,error,rand_index])\n",
        "tn,fp,fn,tp,error,rand_index = proposed_kmean(df6)\n",
        "Table.add_row([\"PC1\",tn, fn, fp, tp,error,rand_index])\n",
        "tn,fp,fn,tp,error,rand_index = proposed_kmean(df7)\n",
        "Table.add_row([\"PC2\",tn, fn, fp, tp,error,rand_index])\n",
        "tn,fp,fn,tp,error,rand_index = proposed_kmean(df8)\n",
        "Table.add_row([\"PC3\",tn, fn, fp, tp,error,rand_index])\n",
        "tn,fp,fn,tp,error,rand_index = proposed_kmean(df9)\n",
        "Table.add_row([\"PC4\",tn, fn, fp, tp,error,rand_index])\n",
        "print(Table)"
      ],
      "metadata": {
        "colab": {
          "base_uri": "https://localhost:8080/"
        },
        "id": "-ab_a-hBuCQ7",
        "outputId": "5eab5bab-201a-4128-bf5d-4274a133ded3"
      },
      "execution_count": null,
      "outputs": [
        {
          "output_type": "stream",
          "name": "stdout",
          "text": [
            "----------------------------------------------- Proposed K-Means Table -----------------------------------------------\n",
            "+------+---------------+----------------+----------------+---------------+----------------------+--------------------+\n",
            "| Data | True Negative | False Positive | False Negative | True Positive |        Error         |     Rand index     |\n",
            "+------+---------------+----------------+----------------+---------------+----------------------+--------------------+\n",
            "| CM1  |      300      |       2        |       42       |       0       | 0.12790697674418605  | 0.872093023255814  |\n",
            "| KC1  |      1739     |       31       |      283       |       42      | 0.14988066825775656  | 0.8501193317422434 |\n",
            "| KC3  |      163      |       1        |       35       |       1       |         0.18         |        0.82        |\n",
            "| MC2  |       80      |       1        |       38       |       6       |        0.312         |       0.688        |\n",
            "| MW1  |      230      |       6        |       25       |       2       | 0.11787072243346007  | 0.8821292775665399 |\n",
            "| PC1  |      673      |       1        |       60       |       1       | 0.08299319727891157  | 0.9170068027210885 |\n",
            "| PC2  |      1470     |       7        |       15       |       1       | 0.014735432016075016 | 0.985264567983925  |\n",
            "| PC3  |      960      |       1        |      138       |       0       |  0.1264786169244768  | 0.8735213830755232 |\n",
            "| PC4  |      1201     |       0        |      177       |       1       | 0.12835387962291517  | 0.8716461203770849 |\n",
            "+------+---------------+----------------+----------------+---------------+----------------------+--------------------+\n"
          ]
        }
      ]
    }
  ]
}